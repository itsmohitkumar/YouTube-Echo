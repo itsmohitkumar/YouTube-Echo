{
 "cells": [
  {
   "cell_type": "markdown",
   "metadata": {},
   "source": [
    "### Information about the Code\n",
    "\n",
    "The code provides a streamlined framework for interacting with YouTube videos and their transcripts using a combination of various libraries and services. It includes functionality to:\n",
    "\n",
    "1. Fetch YouTube Transcripts: Using the YoutubeLoader from the langchain_community library, the code retrieves transcripts from YouTube videos in chunks for detailed analysis.\n",
    "\n",
    "2. Search for YouTube Videos: The scrapetube library is employed to search for videos based on user-defined criteria such as relevance, upload date, view count, or rating.\n",
    "\n",
    "3. Generate Document Embeddings: The OpenAIEmbeddings class from the langchain_openai library is used to create embeddings for the transcript documents, which are essential for semantic understanding.\n",
    "\n",
    "4. Create and Utilize Vectorstores: The FAISS library is used to index the document embeddings and facilitate efficient retrieval of relevant information.\n",
    "\n",
    "5. Ask AI Questions: The ChatGroq model from langchain_groq handles the question-answering process, providing responses based on the context derived from video transcripts.\n",
    "\n",
    "6. Display Video and Results: Functions are included to display video content and transcripts, and to present search results and AI-generated responses in a user-friendly manner.\n"
   ]
  },
  {
   "cell_type": "markdown",
   "metadata": {},
   "source": [
    "##### Step 1: Import Libraries"
   ]
  },
  {
   "cell_type": "code",
   "execution_count": 1,
   "metadata": {},
   "outputs": [
    {
     "name": "stdout",
     "output_type": "stream",
     "text": [
      "\u001b[33mWARNING: You are using pip version 22.0.4; however, version 24.2 is available.\n",
      "You should consider upgrading via the '/Users/taurangela/Desktop/Github/YouTubeEcho/env/bin/python -m pip install --upgrade pip' command.\u001b[0m\u001b[33m\n",
      "\u001b[0mNote: you may need to restart the kernel to use updated packages.\n",
      "Requirement already satisfied: langchain-community in /Users/taurangela/Desktop/Github/YouTubeEcho/env/lib/python3.10/site-packages (0.3.0)\n",
      "Requirement already satisfied: aiohttp<4.0.0,>=3.8.3 in /Users/taurangela/Desktop/Github/YouTubeEcho/env/lib/python3.10/site-packages (from langchain-community) (3.10.5)\n",
      "Requirement already satisfied: langchain<0.4.0,>=0.3.0 in /Users/taurangela/Desktop/Github/YouTubeEcho/env/lib/python3.10/site-packages (from langchain-community) (0.3.0)\n",
      "Requirement already satisfied: langchain-core<0.4.0,>=0.3.0 in /Users/taurangela/Desktop/Github/YouTubeEcho/env/lib/python3.10/site-packages (from langchain-community) (0.3.1)\n",
      "Requirement already satisfied: dataclasses-json<0.7,>=0.5.7 in /Users/taurangela/Desktop/Github/YouTubeEcho/env/lib/python3.10/site-packages (from langchain-community) (0.6.7)\n",
      "Requirement already satisfied: langsmith<0.2.0,>=0.1.112 in /Users/taurangela/Desktop/Github/YouTubeEcho/env/lib/python3.10/site-packages (from langchain-community) (0.1.123)\n",
      "Requirement already satisfied: SQLAlchemy<3,>=1.4 in /Users/taurangela/Desktop/Github/YouTubeEcho/env/lib/python3.10/site-packages (from langchain-community) (2.0.35)\n",
      "Requirement already satisfied: numpy<2,>=1 in /Users/taurangela/Desktop/Github/YouTubeEcho/env/lib/python3.10/site-packages (from langchain-community) (1.26.4)\n",
      "Requirement already satisfied: tenacity!=8.4.0,<9.0.0,>=8.1.0 in /Users/taurangela/Desktop/Github/YouTubeEcho/env/lib/python3.10/site-packages (from langchain-community) (8.5.0)\n",
      "Requirement already satisfied: PyYAML>=5.3 in /Users/taurangela/Desktop/Github/YouTubeEcho/env/lib/python3.10/site-packages (from langchain-community) (6.0.2)\n",
      "Requirement already satisfied: pydantic-settings<3.0.0,>=2.4.0 in /Users/taurangela/Desktop/Github/YouTubeEcho/env/lib/python3.10/site-packages (from langchain-community) (2.5.2)\n",
      "Requirement already satisfied: requests<3,>=2 in /Users/taurangela/Desktop/Github/YouTubeEcho/env/lib/python3.10/site-packages (from langchain-community) (2.32.3)\n",
      "Requirement already satisfied: attrs>=17.3.0 in /Users/taurangela/Desktop/Github/YouTubeEcho/env/lib/python3.10/site-packages (from aiohttp<4.0.0,>=3.8.3->langchain-community) (24.2.0)\n",
      "Requirement already satisfied: aiohappyeyeballs>=2.3.0 in /Users/taurangela/Desktop/Github/YouTubeEcho/env/lib/python3.10/site-packages (from aiohttp<4.0.0,>=3.8.3->langchain-community) (2.4.0)\n",
      "Requirement already satisfied: multidict<7.0,>=4.5 in /Users/taurangela/Desktop/Github/YouTubeEcho/env/lib/python3.10/site-packages (from aiohttp<4.0.0,>=3.8.3->langchain-community) (6.1.0)\n",
      "Requirement already satisfied: frozenlist>=1.1.1 in /Users/taurangela/Desktop/Github/YouTubeEcho/env/lib/python3.10/site-packages (from aiohttp<4.0.0,>=3.8.3->langchain-community) (1.4.1)\n",
      "Requirement already satisfied: async-timeout<5.0,>=4.0 in /Users/taurangela/Desktop/Github/YouTubeEcho/env/lib/python3.10/site-packages (from aiohttp<4.0.0,>=3.8.3->langchain-community) (4.0.3)\n",
      "Requirement already satisfied: aiosignal>=1.1.2 in /Users/taurangela/Desktop/Github/YouTubeEcho/env/lib/python3.10/site-packages (from aiohttp<4.0.0,>=3.8.3->langchain-community) (1.3.1)\n",
      "Requirement already satisfied: yarl<2.0,>=1.0 in /Users/taurangela/Desktop/Github/YouTubeEcho/env/lib/python3.10/site-packages (from aiohttp<4.0.0,>=3.8.3->langchain-community) (1.11.1)\n",
      "Requirement already satisfied: typing-inspect<1,>=0.4.0 in /Users/taurangela/Desktop/Github/YouTubeEcho/env/lib/python3.10/site-packages (from dataclasses-json<0.7,>=0.5.7->langchain-community) (0.9.0)\n",
      "Requirement already satisfied: marshmallow<4.0.0,>=3.18.0 in /Users/taurangela/Desktop/Github/YouTubeEcho/env/lib/python3.10/site-packages (from dataclasses-json<0.7,>=0.5.7->langchain-community) (3.22.0)\n",
      "Requirement already satisfied: langchain-text-splitters<0.4.0,>=0.3.0 in /Users/taurangela/Desktop/Github/YouTubeEcho/env/lib/python3.10/site-packages (from langchain<0.4.0,>=0.3.0->langchain-community) (0.3.0)\n",
      "Requirement already satisfied: pydantic<3.0.0,>=2.7.4 in /Users/taurangela/Desktop/Github/YouTubeEcho/env/lib/python3.10/site-packages (from langchain<0.4.0,>=0.3.0->langchain-community) (2.9.2)\n",
      "Requirement already satisfied: packaging<25,>=23.2 in /Users/taurangela/Desktop/Github/YouTubeEcho/env/lib/python3.10/site-packages (from langchain-core<0.4.0,>=0.3.0->langchain-community) (24.1)\n",
      "Requirement already satisfied: typing-extensions>=4.7 in /Users/taurangela/Desktop/Github/YouTubeEcho/env/lib/python3.10/site-packages (from langchain-core<0.4.0,>=0.3.0->langchain-community) (4.12.2)\n",
      "Requirement already satisfied: jsonpatch<2.0,>=1.33 in /Users/taurangela/Desktop/Github/YouTubeEcho/env/lib/python3.10/site-packages (from langchain-core<0.4.0,>=0.3.0->langchain-community) (1.33)\n",
      "Requirement already satisfied: httpx<1,>=0.23.0 in /Users/taurangela/Desktop/Github/YouTubeEcho/env/lib/python3.10/site-packages (from langsmith<0.2.0,>=0.1.112->langchain-community) (0.27.2)\n",
      "Requirement already satisfied: orjson<4.0.0,>=3.9.14 in /Users/taurangela/Desktop/Github/YouTubeEcho/env/lib/python3.10/site-packages (from langsmith<0.2.0,>=0.1.112->langchain-community) (3.10.7)\n",
      "Requirement already satisfied: python-dotenv>=0.21.0 in /Users/taurangela/Desktop/Github/YouTubeEcho/env/lib/python3.10/site-packages (from pydantic-settings<3.0.0,>=2.4.0->langchain-community) (1.0.1)\n",
      "Requirement already satisfied: idna<4,>=2.5 in /Users/taurangela/Desktop/Github/YouTubeEcho/env/lib/python3.10/site-packages (from requests<3,>=2->langchain-community) (3.10)\n",
      "Requirement already satisfied: urllib3<3,>=1.21.1 in /Users/taurangela/Desktop/Github/YouTubeEcho/env/lib/python3.10/site-packages (from requests<3,>=2->langchain-community) (2.2.3)\n",
      "Requirement already satisfied: charset-normalizer<4,>=2 in /Users/taurangela/Desktop/Github/YouTubeEcho/env/lib/python3.10/site-packages (from requests<3,>=2->langchain-community) (3.3.2)\n",
      "Requirement already satisfied: certifi>=2017.4.17 in /Users/taurangela/Desktop/Github/YouTubeEcho/env/lib/python3.10/site-packages (from requests<3,>=2->langchain-community) (2024.8.30)\n",
      "Requirement already satisfied: greenlet!=0.4.17 in /Users/taurangela/Desktop/Github/YouTubeEcho/env/lib/python3.10/site-packages (from SQLAlchemy<3,>=1.4->langchain-community) (3.1.0)\n",
      "Requirement already satisfied: sniffio in /Users/taurangela/Desktop/Github/YouTubeEcho/env/lib/python3.10/site-packages (from httpx<1,>=0.23.0->langsmith<0.2.0,>=0.1.112->langchain-community) (1.3.1)\n",
      "Requirement already satisfied: httpcore==1.* in /Users/taurangela/Desktop/Github/YouTubeEcho/env/lib/python3.10/site-packages (from httpx<1,>=0.23.0->langsmith<0.2.0,>=0.1.112->langchain-community) (1.0.5)\n",
      "Requirement already satisfied: anyio in /Users/taurangela/Desktop/Github/YouTubeEcho/env/lib/python3.10/site-packages (from httpx<1,>=0.23.0->langsmith<0.2.0,>=0.1.112->langchain-community) (4.5.0)\n",
      "Requirement already satisfied: h11<0.15,>=0.13 in /Users/taurangela/Desktop/Github/YouTubeEcho/env/lib/python3.10/site-packages (from httpcore==1.*->httpx<1,>=0.23.0->langsmith<0.2.0,>=0.1.112->langchain-community) (0.14.0)\n",
      "Requirement already satisfied: jsonpointer>=1.9 in /Users/taurangela/Desktop/Github/YouTubeEcho/env/lib/python3.10/site-packages (from jsonpatch<2.0,>=1.33->langchain-core<0.4.0,>=0.3.0->langchain-community) (3.0.0)\n",
      "Requirement already satisfied: pydantic-core==2.23.4 in /Users/taurangela/Desktop/Github/YouTubeEcho/env/lib/python3.10/site-packages (from pydantic<3.0.0,>=2.7.4->langchain<0.4.0,>=0.3.0->langchain-community) (2.23.4)\n",
      "Requirement already satisfied: annotated-types>=0.6.0 in /Users/taurangela/Desktop/Github/YouTubeEcho/env/lib/python3.10/site-packages (from pydantic<3.0.0,>=2.7.4->langchain<0.4.0,>=0.3.0->langchain-community) (0.7.0)\n",
      "Requirement already satisfied: mypy-extensions>=0.3.0 in /Users/taurangela/Desktop/Github/YouTubeEcho/env/lib/python3.10/site-packages (from typing-inspect<1,>=0.4.0->dataclasses-json<0.7,>=0.5.7->langchain-community) (1.0.0)\n",
      "Requirement already satisfied: exceptiongroup>=1.0.2 in /Users/taurangela/Desktop/Github/YouTubeEcho/env/lib/python3.10/site-packages (from anyio->httpx<1,>=0.23.0->langsmith<0.2.0,>=0.1.112->langchain-community) (1.2.2)\n",
      "\u001b[33mWARNING: You are using pip version 22.0.4; however, version 24.2 is available.\n",
      "You should consider upgrading via the '/Users/taurangela/Desktop/Github/YouTubeEcho/env/bin/python -m pip install --upgrade pip' command.\u001b[0m\u001b[33m\n",
      "\u001b[0mNote: you may need to restart the kernel to use updated packages.\n",
      "Requirement already satisfied: youtube-transcript-api in /Users/taurangela/Desktop/Github/YouTubeEcho/env/lib/python3.10/site-packages (0.6.2)\n",
      "Requirement already satisfied: requests in /Users/taurangela/Desktop/Github/YouTubeEcho/env/lib/python3.10/site-packages (from youtube-transcript-api) (2.32.3)\n",
      "Requirement already satisfied: urllib3<3,>=1.21.1 in /Users/taurangela/Desktop/Github/YouTubeEcho/env/lib/python3.10/site-packages (from requests->youtube-transcript-api) (2.2.3)\n",
      "Requirement already satisfied: idna<4,>=2.5 in /Users/taurangela/Desktop/Github/YouTubeEcho/env/lib/python3.10/site-packages (from requests->youtube-transcript-api) (3.10)\n",
      "Requirement already satisfied: certifi>=2017.4.17 in /Users/taurangela/Desktop/Github/YouTubeEcho/env/lib/python3.10/site-packages (from requests->youtube-transcript-api) (2024.8.30)\n",
      "Requirement already satisfied: charset-normalizer<4,>=2 in /Users/taurangela/Desktop/Github/YouTubeEcho/env/lib/python3.10/site-packages (from requests->youtube-transcript-api) (3.3.2)\n",
      "\u001b[33mWARNING: You are using pip version 22.0.4; however, version 24.2 is available.\n",
      "You should consider upgrading via the '/Users/taurangela/Desktop/Github/YouTubeEcho/env/bin/python -m pip install --upgrade pip' command.\u001b[0m\u001b[33m\n",
      "\u001b[0mNote: you may need to restart the kernel to use updated packages.\n",
      "Collecting pytube\n",
      "  Using cached pytube-15.0.0-py3-none-any.whl (57 kB)\n",
      "Installing collected packages: pytube\n",
      "Successfully installed pytube-15.0.0\n",
      "\u001b[33mWARNING: You are using pip version 22.0.4; however, version 24.2 is available.\n",
      "You should consider upgrading via the '/Users/taurangela/Desktop/Github/YouTubeEcho/env/bin/python -m pip install --upgrade pip' command.\u001b[0m\u001b[33m\n",
      "\u001b[0mNote: you may need to restart the kernel to use updated packages.\n"
     ]
    }
   ],
   "source": [
    "%pip install -qU langchain-groq\n",
    "%pip install langchain-community\n",
    "%pip install youtube-transcript-api\n",
    "%pip install pytube"
   ]
  },
  {
   "cell_type": "code",
   "execution_count": 2,
   "metadata": {},
   "outputs": [],
   "source": [
    "import os\n",
    "import ssl\n",
    "from dotenv import load_dotenv\n",
    "from langchain_groq import ChatGroq\n",
    "from langchain_openai import OpenAIEmbeddings\n",
    "from langchain_community.vectorstores import FAISS\n",
    "from langchain.text_splitter import RecursiveCharacterTextSplitter\n",
    "from langchain_community.document_loaders import YoutubeLoader\n",
    "from langchain_community.document_loaders.youtube import TranscriptFormat\n",
    "import scrapetube\n",
    "from IPython.display import display, HTML, Video"
   ]
  },
  {
   "cell_type": "markdown",
   "metadata": {},
   "source": [
    "##### Step 2: Setup Environment"
   ]
  },
  {
   "cell_type": "code",
   "execution_count": 3,
   "metadata": {},
   "outputs": [],
   "source": [
    "# Bypass SSL certificate verification (development only)\n",
    "ssl._create_default_https_context = ssl._create_unverified_context\n",
    "\n",
    "# Load environment variables\n",
    "load_dotenv()\n",
    "\n",
    "# Constants\n",
    "OPENAI_API_KEY = os.getenv(\"OPENAI_API_KEY\")\n",
    "GROQ_API_KEY = os.getenv(\"GROQ_API_KEY\")"
   ]
  },
  {
   "cell_type": "markdown",
   "metadata": {},
   "source": [
    "##### Step 3: Define Function to Fetch Transcript"
   ]
  },
  {
   "cell_type": "code",
   "execution_count": 4,
   "metadata": {},
   "outputs": [],
   "source": [
    "def fetch_transcript(url):\n",
    "    try:\n",
    "        transcript_loader = YoutubeLoader.from_youtube_url(\n",
    "            url, \n",
    "            add_video_info=True, \n",
    "            transcript_format=TranscriptFormat.CHUNKS, \n",
    "            chunk_size_seconds=30\n",
    "        )\n",
    "        return transcript_loader.load()\n",
    "    except Exception as e:\n",
    "        print(f\"An error occurred while fetching the transcript: {str(e)}\")\n",
    "        return []"
   ]
  },
  {
   "cell_type": "markdown",
   "metadata": {},
   "source": [
    "##### Step 4: Define Function to Search for Videos"
   ]
  },
  {
   "cell_type": "code",
   "execution_count": 5,
   "metadata": {},
   "outputs": [],
   "source": [
    "def search_videos(search_term, video_count=1, sorting_criteria=\"Most Relevant\"):\n",
    "    convert_sorting_option = {\n",
    "        \"Most Relevant\": \"relevance\",\n",
    "        \"Upload Date\": \"upload_date\",\n",
    "        \"View Count\": \"view_count\", \n",
    "        \"Rating\": \"rating\"\n",
    "    }\n",
    "    \n",
    "    if sorting_criteria not in convert_sorting_option:\n",
    "        raise ValueError(f\"Invalid sorting criteria: {sorting_criteria}. Valid options are: {', '.join(convert_sorting_option.keys())}\")\n",
    "\n",
    "    videos = scrapetube.get_search(\n",
    "        query=search_term, \n",
    "        limit=video_count, \n",
    "        sort_by=convert_sorting_option[sorting_criteria]\n",
    "    )\n",
    "    return [\n",
    "        {\n",
    "            \"video_id\": video[\"videoId\"],\n",
    "            \"video_title\": video[\"title\"][\"runs\"][0][\"text\"],\n",
    "            \"video_url\": f\"https://www.youtube.com/watch?v={video['videoId']}\",\n",
    "            \"channel_name\": video[\"longBylineText\"][\"runs\"][0][\"text\"],\n",
    "            \"duration\": video[\"lengthText\"][\"accessibility\"][\"accessibilityData\"][\"label\"],\n",
    "            \"publish_date\": video[\"publishedTimeText\"][\"simpleText\"]\n",
    "        }\n",
    "        for video in videos\n",
    "    ]\n"
   ]
  },
  {
   "cell_type": "markdown",
   "metadata": {},
   "source": [
    "##### Step 5: Define Function for Document Embeddings"
   ]
  },
  {
   "cell_type": "code",
   "execution_count": 6,
   "metadata": {},
   "outputs": [],
   "source": [
    "def embed_documents(documents):\n",
    "    embeddings = OpenAIEmbeddings(api_key=OPENAI_API_KEY)\n",
    "    return embeddings.embed_documents(documents)"
   ]
  },
  {
   "cell_type": "markdown",
   "metadata": {},
   "source": [
    "##### Step 6: Define Function to Create Vectorstore"
   ]
  },
  {
   "cell_type": "code",
   "execution_count": 7,
   "metadata": {},
   "outputs": [],
   "source": [
    "def create_vectorstore(documents):\n",
    "    embeddings = OpenAIEmbeddings(api_key=OPENAI_API_KEY)\n",
    "    return FAISS.from_documents(documents, embeddings)"
   ]
  },
  {
   "cell_type": "markdown",
   "metadata": {},
   "source": [
    "##### Step 7: Define Function to Ask AI Questions"
   ]
  },
  {
   "cell_type": "code",
   "execution_count": 8,
   "metadata": {},
   "outputs": [],
   "source": [
    "def ask_question(messages):\n",
    "    llm = ChatGroq(\n",
    "        model=\"mixtral-8x7b-32768\",  # Adjust model name as needed\n",
    "        temperature=0,\n",
    "        max_tokens=None,\n",
    "        timeout=None,\n",
    "        max_retries=2,\n",
    "    )\n",
    "    return llm.invoke(messages).content"
   ]
  },
  {
   "cell_type": "markdown",
   "metadata": {},
   "source": [
    "##### Step 8: Define Function for RAG (Retrieve and Generate) Processing"
   ]
  },
  {
   "cell_type": "code",
   "execution_count": 9,
   "metadata": {},
   "outputs": [],
   "source": [
    "def rag_with_video_transcript(transcript_docs, prompt):\n",
    "    text_splitter = RecursiveCharacterTextSplitter(\n",
    "        chunk_size=1000,\n",
    "        chunk_overlap=0,\n",
    "        length_function=len\n",
    "    )\n",
    "    \n",
    "    splitted_documents = text_splitter.split_documents(transcript_docs)\n",
    "    \n",
    "    if len(splitted_documents) == 0:\n",
    "        print(\"No documents to process.\")\n",
    "        return \"No documents to process.\", []\n",
    "\n",
    "    try:\n",
    "        document_texts = [doc.page_content for doc in splitted_documents]\n",
    "        document_embeddings = embed_documents(document_texts)\n",
    "\n",
    "        if len(document_embeddings) == 0 or len(document_embeddings[0]) == 0:\n",
    "            print(\"Document embeddings are empty or invalid.\")\n",
    "            return \"Document embeddings are empty or invalid.\", []\n",
    "\n",
    "        vectorstore = create_vectorstore(splitted_documents)\n",
    "        retriever = vectorstore.as_retriever()\n",
    "        # Using `invoke` to get relevant documents\n",
    "        relevant_documents = retriever.invoke(prompt)\n",
    "        \n",
    "        context_data = \" \".join(doc.page_content for doc in relevant_documents)\n",
    "        final_prompt = f\"\"\"I have the following question: {prompt}\n",
    "        To answer this question, we have the following information: {context_data}.\n",
    "        Please use only the information provided here to answer the question. Do not include any external information.\n",
    "        \"\"\"\n",
    "        \n",
    "        AI_Response = ask_question([(\"system\", \"You are a helpful assistant.\"), (\"human\", final_prompt)])\n",
    "        \n",
    "        return AI_Response, relevant_documents\n",
    "\n",
    "    except Exception as e:\n",
    "        print(f\"An error occurred during RAG processing: {str(e)}\")\n",
    "        return \"An error occurred during RAG processing.\", []"
   ]
  },
  {
   "cell_type": "markdown",
   "metadata": {},
   "source": [
    "##### Step 9: Define Functions for Displaying Videos and Results"
   ]
  },
  {
   "cell_type": "code",
   "execution_count": 10,
   "metadata": {},
   "outputs": [],
   "source": [
    "def display_video(video_url):\n",
    "    # HTML embed code for displaying YouTube video\n",
    "    html_code = f\"\"\"\n",
    "    <iframe width=\"560\" height=\"315\" src=\"{video_url}\" frameborder=\"0\" allow=\"accelerometer; autoplay; clipboard-write; encrypted-media; gyroscope; picture-in-picture\" allowfullscreen></iframe>\n",
    "    \"\"\"\n",
    "    display(HTML(html_code))\n",
    "\n",
    "def fetch_and_display_transcript(video_url):\n",
    "    transcript_docs = fetch_transcript(video_url)\n",
    "    display(HTML(f\"<h3>Video Transcript for {video_url}</h3>\"))\n",
    "    for doc in transcript_docs:\n",
    "        print(doc.page_content)\n",
    "    return transcript_docs\n",
    "\n",
    "def display_search_results(videos):\n",
    "    for i, video in enumerate(videos):\n",
    "        print(f\"Video No: {i+1}\")\n",
    "        display_video(video[\"video_url\"])\n",
    "        print(f\"Title: {video['video_title']}\")\n",
    "        print(f\"Channel: {video['channel_name']}\")\n",
    "        print(f\"Duration: {video['duration']}\")"
   ]
  },
  {
   "cell_type": "markdown",
   "metadata": {},
   "source": [
    "##### Step 10: Execute Example Usage"
   ]
  },
  {
   "cell_type": "code",
   "execution_count": 12,
   "metadata": {},
   "outputs": [
    {
     "name": "stdout",
     "output_type": "stream",
     "text": [
      "Video No: 1\n"
     ]
    },
    {
     "data": {
      "text/html": [
       "\n",
       "    <iframe width=\"560\" height=\"315\" src=\"https://www.youtube.com/watch?v=4RixMPF4xis\" frameborder=\"0\" allow=\"accelerometer; autoplay; clipboard-write; encrypted-media; gyroscope; picture-in-picture\" allowfullscreen></iframe>\n",
       "    "
      ],
      "text/plain": [
       "<IPython.core.display.HTML object>"
      ]
     },
     "metadata": {},
     "output_type": "display_data"
    },
    {
     "name": "stdout",
     "output_type": "stream",
     "text": [
      "Title: AI vs Machine Learning\n",
      "Channel: IBM Technology\n",
      "Duration: 5 minutes, 49 seconds\n",
      "Video No: 2\n"
     ]
    },
    {
     "data": {
      "text/html": [
       "\n",
       "    <iframe width=\"560\" height=\"315\" src=\"https://www.youtube.com/watch?v=qYNweeDHiyU\" frameborder=\"0\" allow=\"accelerometer; autoplay; clipboard-write; encrypted-media; gyroscope; picture-in-picture\" allowfullscreen></iframe>\n",
       "    "
      ],
      "text/plain": [
       "<IPython.core.display.HTML object>"
      ]
     },
     "metadata": {},
     "output_type": "display_data"
    },
    {
     "name": "stdout",
     "output_type": "stream",
     "text": [
      "Title: AI, Machine Learning, Deep Learning and Generative AI Explained\n",
      "Channel: IBM Technology\n",
      "Duration: 10 minutes, 1 second\n",
      "Video No: 3\n"
     ]
    },
    {
     "data": {
      "text/html": [
       "\n",
       "    <iframe width=\"560\" height=\"315\" src=\"https://www.youtube.com/watch?v=ukzFI9rgwfU\" frameborder=\"0\" allow=\"accelerometer; autoplay; clipboard-write; encrypted-media; gyroscope; picture-in-picture\" allowfullscreen></iframe>\n",
       "    "
      ],
      "text/plain": [
       "<IPython.core.display.HTML object>"
      ]
     },
     "metadata": {},
     "output_type": "display_data"
    },
    {
     "name": "stdout",
     "output_type": "stream",
     "text": [
      "Title: Machine Learning | What Is Machine Learning? | Introduction To Machine Learning | 2024 | Simplilearn\n",
      "Channel: Simplilearn\n",
      "Duration: 7 minutes, 52 seconds\n"
     ]
    }
   ],
   "source": [
    "# 1. Search for Videos\n",
    "search_term = \"AI and Machine Learning\"\n",
    "video_count = 3\n",
    "sorting_criteria = \"Most Relevant\"  # Correct value from the dictionary\n",
    "videos = search_videos(search_term, video_count, sorting_criteria)\n",
    "display_search_results(videos)"
   ]
  },
  {
   "cell_type": "code",
   "execution_count": 13,
   "metadata": {},
   "outputs": [
    {
     "data": {
      "text/html": [
       "\n",
       "    <iframe width=\"560\" height=\"315\" src=\"https://www.youtube.com/watch?v=t6VYByDYg7c\" frameborder=\"0\" allow=\"accelerometer; autoplay; clipboard-write; encrypted-media; gyroscope; picture-in-picture\" allowfullscreen></iframe>\n",
       "    "
      ],
      "text/plain": [
       "<IPython.core.display.HTML object>"
      ]
     },
     "metadata": {},
     "output_type": "display_data"
    },
    {
     "data": {
      "text/html": [
       "<h3>Video Transcript for https://www.youtube.com/watch?v=t6VYByDYg7c</h3>"
      ],
      "text/plain": [
       "<IPython.core.display.HTML object>"
      ]
     },
     "metadata": {},
     "output_type": "display_data"
    },
    {
     "name": "stdout",
     "output_type": "stream",
     "text": [
      "This laptop, cell phone, tablet and headphones\n",
      "together cost more than $3,500, that's about the same as two and a half\n",
      "months rent for the average American. Let’s face it. Apple products\n",
      "have never been cheap. And the cost of some of its products\n",
      "has increased dramatically over time. Just look at how the price of the\n",
      "iPhone has increased over the years.\n",
      "What started at $499 in\n",
      "2007, now starts at $999. So what makes these\n",
      "products so pricey? Well, some say, it boils down to no other reason than the\n",
      "fact that Apple can convince us to pay the hefty price. There’s even an unofficial\n",
      "term for this phenomenon. It’s called The Apple Tax which describes\n",
      "the extra money customers are willing to pay for an Apple product over a competitor\n",
      "product with similar features. And, often it’s attributed to the so-called\n",
      "“cool factor” associated with Apple.\n",
      "It’s those premium prices that helped catapult Apple into\n",
      "becoming one of the world’s most valuable companies. And at the start of 2019, it announced it was\n",
      "holding a whopping $245 billion in cash reserves. But Apple would argue customers\n",
      "are paying a premium for a reason. In 2018, Apple’s CEO Tim Cook defended the\n",
      "company’s most expensive iPhone yet, saying pointing out it had replaced the need for other devices\n",
      "like a camera, video recorder and music player.\n",
      "He argues creating the “most innovative\n",
      "product available” is “not cheap to do” and Apple will never\n",
      "sacrifice quality for price. So all that money you’re shelling out for\n",
      "your new iPhone is, at least in theory, helping to fund future\n",
      "innovations like it. Innovation is what helped\n",
      "Apple earn its stripes. It's a phone, first and foremost, as\n",
      "you'd expect from the iPhone. So you've got all your contacts on there but it's different\n",
      "to most mobile phones, it syncs with your computer. The original iPod and the iPhone have both been\n",
      "touted as products that changed the world.\n",
      "When the original iPod came out in 2001, it cost $399, a\n",
      "staggering price for a personal music player at the time. Apple aggressively marketed the iPod as a device\n",
      "that could store 1,000 songs in your pocket, all of this at the cusp of the\n",
      "digital download revolution. In less than six years, Apple announced\n",
      "more than 100 million iPods had been sold, making it the fastest-selling\n",
      "music player in history. In 2005, Apple announced its annual\n",
      "profits shot up 384 percent,\n",
      "largely due to the smashing hit\n",
      "of its new digital music player. Its profits would continue\n",
      "to grow through to 2012. For a lot of those customers, the iPod would become\n",
      "the first of many Apple purchases, so ultimately that $399 purchase would make them more inclined\n",
      "to, not just potentially buy new versions of the iPod, but ultimately move on to buy iPhones,\n",
      "MacBooks, iPads and Apple Watches. You get the idea. Suddenly you’re locked into Apple’s\n",
      "ecosystem, which some experts say\n",
      "has allowed the company to increase\n",
      "prices faster than its competitors. Think of it like Apple sort of having a\n",
      "monopoly on a customer’s digital life. The iPhone, which debuted in 2007,\n",
      "would ultimately replace the iPod, and this was responsible for\n",
      "even more impressive growth. Worldwide shipments of the iPhone increased year on\n",
      "year until it reached its peak of 231 million in 2015. That’s more iPhones than there\n",
      "are people in most countries. But, now there’s some concern around\n",
      "Apple’s ability to continue innovating,\n",
      "and even some signs that it's growth and\n",
      "industry dominance is under pressure. You see, Apple hasn’t been able to\n",
      "surpass that iPhone peak ever since. And profits have begun\n",
      "to fluctuate too. So, why the peak? Well, it’s part of a larger trend we’re\n",
      "seeing across the entire industry. The lifespan of a smartphone\n",
      "is getting longer, which means customers just aren’t\n",
      "upgrading as often as they used to. But as a publicly-traded company, Apple\n",
      "is expected to grow for its shareholders\n",
      "and one possible way to combat declining\n",
      "sales is simply to raise prices. That enables it to have\n",
      "higher profit margins. In 2018, the price of the base Apple\n",
      "Watch went from $329 to $399. And don’t forget the time it tried to sell\n",
      "the Apple Gold watch for $10,000. An analysis in 2017 found that the iPhone X cost\n",
      "25 percent more than the iPhone 8 to make, yet it retailed for 43 percent more.\n",
      "According to one firm, the iPhone\n",
      "X costs $357.50 to make, but since it sells for $999, that gives\n",
      "it a gross margin of 64 percent. In recent years, to help grow its\n",
      "business, Apple has made it a priority to grow sales in the world’s\n",
      "most populous country, China. And while it’s been met with some success,\n",
      "it also faces serious competition. Ironically, the sheer expense of Apple products has hurt\n",
      "sales in countries like China, India, Brazil and Turkey, emerging markets the company\n",
      "desperately needs to keep growing.\n",
      "Premium smartphone prices have\n",
      "been rising across the board, but compared to its competitors\n",
      "in China, iPhones cost a lot. Take for instance\n",
      "the iPhone XS Max. It costs close to $1,400 in China, essentially\n",
      "twice the price of Huawei’s Mate 20 and three times the cost\n",
      "of Xiaomi Mi's Mix 3. Throw a stronger dollar, tariffs and an economic\n",
      "slowdown into the mix, and it’s no surprise that in mid-2018, Apple’s iPhone fell third place amongst\n",
      "the list of world’s most popular smartphones.\n",
      "That’s when Chinese tech\n",
      "giant, Huawei passed it. Just look at the percentage change in Apple’s share of\n",
      "the smartphone market compared to its competitors. That same year, Apple announced it would\n",
      "no longer report units sold of iPhones, which Wall Street interpreted as a\n",
      "likely sign of more declining sales. At the end of the day, most experts agree that\n",
      "Apple needs to come up with new innovations, and not just raise prices in order to hold onto its place\n",
      "as one of the world’s most valuable companies. Hey guys, it's Uptin.\n",
      "Thanks for watching!\n",
      "For more of our videos, check out my day\n",
      "inside Huawei's headquarters in China here, and get inside Alibaba's grocery\n",
      "store and robot restaurant, here. We're also taking suggestions for future CNBC Explains,\n",
      "so leave your comments in the section below. And while you're at it,\n",
      "subscribe to our channel.\n"
     ]
    }
   ],
   "source": [
    "# 2. Fetch and Display Transcript for a Selected Video\n",
    "video_url = \"https://www.youtube.com/watch?v=t6VYByDYg7c\"  # Replace with actual URL\n",
    "display_video(video_url)\n",
    "transcript_docs = fetch_and_display_transcript(video_url)\n"
   ]
  },
  {
   "cell_type": "code",
   "execution_count": 14,
   "metadata": {},
   "outputs": [
    {
     "name": "stdout",
     "output_type": "stream",
     "text": [
      "ANSWER:\n",
      "Based on the information provided, the main topics discussed in the video include:\n",
      "\n",
      "1. The decline of Apple's share in the smartphone market and the rise of Huawei.\n",
      "2. The significance of Apple's decision not to report units sold of iPhones and the potential impact on sales.\n",
      "3. The need for Apple to innovate and not just raise prices to maintain its position as one of the world's most valuable companies.\n",
      "4. The argument that creating innovative products is not cheap and Apple will not compromise on quality for price.\n",
      "5. The role of innovation in Apple's success, with examples such as the original iPod and iPhone.\n",
      "6. The impact of the iPhone on Apple's growth and the record-breaking shipments of the device.\n",
      "7. The concern about Apple's ability to continue innovating in the future.\n",
      "REFERENCES:\n",
      "Source: {'source': 'https://www.youtube.com/watch?v=t6VYByDYg7c&t=360s', 'title': 'Why is Apple so expensive? | CNBC Explains', 'description': 'Unknown', 'view_count': 3474101, 'thumbnail_url': 'https://i.ytimg.com/vi/t6VYByDYg7c/hq720.jpg', 'publish_date': '2019-02-07 00:00:00', 'length': 374, 'author': 'CNBC International', 'start_seconds': 360, 'start_timestamp': '00:06:00'}\n",
      "For more of our videos, check out my day\n",
      "inside Huawei's headquarters in China here, and get inside Alibaba's grocery\n",
      "store and robot restaurant, here. We're also taking suggestions for future CNBC Explains,\n",
      "so leave your comments in the section below. And while you're at it,\n",
      "subscribe to our channel.\n",
      "Source: {'source': 'https://www.youtube.com/watch?v=t6VYByDYg7c&t=330s', 'title': 'Why is Apple so expensive? | CNBC Explains', 'description': 'Unknown', 'view_count': 3474101, 'thumbnail_url': 'https://i.ytimg.com/vi/t6VYByDYg7c/hq720.jpg', 'publish_date': '2019-02-07 00:00:00', 'length': 374, 'author': 'CNBC International', 'start_seconds': 330, 'start_timestamp': '00:05:30'}\n",
      "That’s when Chinese tech\n",
      "giant, Huawei passed it. Just look at the percentage change in Apple’s share of\n",
      "the smartphone market compared to its competitors. That same year, Apple announced it would\n",
      "no longer report units sold of iPhones, which Wall Street interpreted as a\n",
      "likely sign of more declining sales. At the end of the day, most experts agree that\n",
      "Apple needs to come up with new innovations, and not just raise prices in order to hold onto its place\n",
      "as one of the world’s most valuable companies. Hey guys, it's Uptin.\n",
      "Thanks for watching!\n",
      "Source: {'source': 'https://www.youtube.com/watch?v=t6VYByDYg7c&t=90s', 'title': 'Why is Apple so expensive? | CNBC Explains', 'description': 'Unknown', 'view_count': 3474101, 'thumbnail_url': 'https://i.ytimg.com/vi/t6VYByDYg7c/hq720.jpg', 'publish_date': '2019-02-07 00:00:00', 'length': 374, 'author': 'CNBC International', 'start_seconds': 90, 'start_timestamp': '00:01:30'}\n",
      "He argues creating the “most innovative\n",
      "product available” is “not cheap to do” and Apple will never\n",
      "sacrifice quality for price. So all that money you’re shelling out for\n",
      "your new iPhone is, at least in theory, helping to fund future\n",
      "innovations like it. Innovation is what helped\n",
      "Apple earn its stripes. It's a phone, first and foremost, as\n",
      "you'd expect from the iPhone. So you've got all your contacts on there but it's different\n",
      "to most mobile phones, it syncs with your computer. The original iPod and the iPhone have both been\n",
      "touted as products that changed the world.\n",
      "Source: {'source': 'https://www.youtube.com/watch?v=t6VYByDYg7c&t=180s', 'title': 'Why is Apple so expensive? | CNBC Explains', 'description': 'Unknown', 'view_count': 3474101, 'thumbnail_url': 'https://i.ytimg.com/vi/t6VYByDYg7c/hq720.jpg', 'publish_date': '2019-02-07 00:00:00', 'length': 374, 'author': 'CNBC International', 'start_seconds': 180, 'start_timestamp': '00:03:00'}\n",
      "has allowed the company to increase\n",
      "prices faster than its competitors. Think of it like Apple sort of having a\n",
      "monopoly on a customer’s digital life. The iPhone, which debuted in 2007,\n",
      "would ultimately replace the iPod, and this was responsible for\n",
      "even more impressive growth. Worldwide shipments of the iPhone increased year on\n",
      "year until it reached its peak of 231 million in 2015. That’s more iPhones than there\n",
      "are people in most countries. But, now there’s some concern around\n",
      "Apple’s ability to continue innovating,\n"
     ]
    }
   ],
   "source": [
    "# 3. Ask a Question About the Transcript\n",
    "prompt = \"What are the main topics discussed in this video?\"\n",
    "AI_Response, relevant_documents = rag_with_video_transcript(transcript_docs, prompt)\n",
    "print(\"ANSWER:\")\n",
    "print(AI_Response)\n",
    "print(\"REFERENCES:\")\n",
    "for doc in relevant_documents:\n",
    "    print(f\"Source: {doc.metadata}\")\n",
    "    print(doc.page_content)"
   ]
  }
 ],
 "metadata": {
  "kernelspec": {
   "display_name": "env",
   "language": "python",
   "name": "python3"
  },
  "language_info": {
   "codemirror_mode": {
    "name": "ipython",
    "version": 3
   },
   "file_extension": ".py",
   "mimetype": "text/x-python",
   "name": "python",
   "nbconvert_exporter": "python",
   "pygments_lexer": "ipython3",
   "version": "3.10.4"
  }
 },
 "nbformat": 4,
 "nbformat_minor": 2
}
